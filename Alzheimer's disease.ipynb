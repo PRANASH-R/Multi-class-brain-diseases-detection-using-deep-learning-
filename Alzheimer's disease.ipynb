{
 "cells": [
  {
   "cell_type": "code",
   "execution_count": 1,
   "id": "b494e9e0",
   "metadata": {},
   "outputs": [],
   "source": [
    "# To read data and numerical calculation\n",
    "import numpy as np\n",
    "import pandas as pd\n",
    "import os\n",
    "\n",
    "# Graph plotting libaries\n",
    "import seaborn as sns\n",
    "import matplotlib.pyplot as plt\n",
    "\n",
    "# Image viewing libaries\n",
    "import cv2\n",
    "import glob\n",
    "from PIL import Image\n",
    "\n",
    "# Tensorflow libaries\n",
    "import tensorflow\n",
    "# Used for generating random numbers\n",
    "import random\n",
    "# Used for serializing and deserializing Python objects\n",
    "import pickle\n",
    "# For working with file paths in a platform-independent way\n",
    "from pathlib import Path\n",
    "\n",
    "from img_viewer import display_image, num_class\n",
    "\n",
    "# This function will be used to split the dataset into training and testing sets\n",
    "from sklearn.model_selection import train_test_split\n",
    "\n",
    "# CNN Model Archiecture \n",
    "from tensorflow.keras.utils import to_categorical\n",
    "from tensorflow.keras.models import Sequential\n",
    "from tensorflow.keras.layers import Dense, Conv2D, MaxPooling2D, Flatten\n",
    "\n",
    "# Metrices\n",
    "from sklearn.metrics import classification_report, confusion_matrix"
   ]
  },
  {
   "cell_type": "code",
   "execution_count": 2,
   "id": "9c925885",
   "metadata": {
    "scrolled": true
   },
   "outputs": [],
   "source": [
    "X = []\n",
    "y = []\n",
    "\n",
    "dataset_path = 'C:\\\\Users\\\\prana\\\\OneDrive\\\\Desktop\\\\Python_Project\\\\Alzheimer_Classification\\\\Alzheimers-ADNI'\n",
    "\n",
    "dir_list = os.listdir(dataset_path)\n",
    "\n",
    "for directory in dir_list:\n",
    "    img_path = os.path.join(dataset_path, directory)\n",
    "    files = Path(img_path).glob('*')\n",
    "    if directory == 'AD':\n",
    "        for file in files:\n",
    "            file = file.__str__()\n",
    "            img = Image.open(file)\n",
    "            img = img.resize((256, 256))\n",
    "            img = np.array(img)\n",
    "            X.append(img)\n",
    "            y.append(0)\n",
    "            \n",
    "    elif directory == 'CN':\n",
    "        for file in files:\n",
    "            file = file.__str__()\n",
    "            img = Image.open(file)\n",
    "            img = img.resize((256, 256))\n",
    "            img = np.array(img)\n",
    "            X.append(img)\n",
    "            y.append(1)\n",
    "    elif directory == 'MCI':\n",
    "        for file in files:\n",
    "            file = file.__str__()\n",
    "            img = Image.open(file)\n",
    "            img = img.resize((256, 256))\n",
    "            img = np.array(img)\n",
    "            X.append(img)\n",
    "            y.append(2)\n",
    "\n",
    "X = np.array(X)\n",
    "y = np.array(y)"
   ]
  },
  {
   "cell_type": "code",
   "execution_count": 3,
   "id": "3a105dbc",
   "metadata": {},
   "outputs": [
    {
     "name": "stdout",
     "output_type": "stream",
     "text": [
      "X_shape (5154, 256, 256) \n",
      "Y_shape (5154,)\n"
     ]
    }
   ],
   "source": [
    "print('X_shape', X.shape, '\\n' 'Y_shape', y.shape)"
   ]
  },
  {
   "cell_type": "code",
   "execution_count": 4,
   "id": "e2c4d4fe",
   "metadata": {
    "scrolled": true
   },
   "outputs": [],
   "source": [
    "y_cat = to_categorical(y)"
   ]
  },
  {
   "cell_type": "code",
   "execution_count": 5,
   "id": "2e42755a",
   "metadata": {},
   "outputs": [],
   "source": [
    "X_train, X_test, y_train, y_test = train_test_split(X, y_cat, test_size = 0.1, random_state=42)"
   ]
  },
  {
   "cell_type": "code",
   "execution_count": 6,
   "id": "e72a1a33",
   "metadata": {},
   "outputs": [
    {
     "name": "stdout",
     "output_type": "stream",
     "text": [
      "X-train shape (4638, 256, 256) \n",
      "y-train shape (4638, 3) \n",
      "X_test shape (516, 256, 256) \n",
      "y_test shape (516, 3)\n"
     ]
    }
   ],
   "source": [
    "print('X-train shape', X_train.shape, '\\n''y-train shape', y_train.shape, '\\n''X_test shape', \n",
    "      X_test.shape, '\\n''y_test shape', y_test.shape)"
   ]
  },
  {
   "cell_type": "code",
   "execution_count": 7,
   "id": "02afcc13",
   "metadata": {},
   "outputs": [],
   "source": [
    "model = Sequential()"
   ]
  },
  {
   "cell_type": "code",
   "execution_count": 8,
   "id": "a591bb74",
   "metadata": {},
   "outputs": [],
   "source": [
    "model.add(Conv2D(filters=32, kernel_size=(3,3), input_shape=(256,256,1), activation='relu'))\n",
    "model.add(MaxPooling2D())\n",
    "\n",
    "model.add(Conv2D(filters=64, kernel_size=(3,3), activation='relu'))\n",
    "model.add(MaxPooling2D())\n",
    "\n",
    "\n",
    "model.add(Conv2D(filters=64, kernel_size=(3,3), activation='relu'))\n",
    "model.add(MaxPooling2D())\n",
    "\n",
    "\n",
    "model.add(Conv2D(filters=32, kernel_size=(3,3), activation='relu'))\n",
    "model.add(MaxPooling2D())\n",
    "\n",
    "model.add(Flatten())\n",
    "\n",
    "model.add(Dense(3, activation='softmax'))"
   ]
  },
  {
   "cell_type": "code",
   "execution_count": 9,
   "id": "d20477fc",
   "metadata": {},
   "outputs": [],
   "source": [
    "model.compile(loss='categorical_crossentropy', optimizer='adam')"
   ]
  },
  {
   "cell_type": "code",
   "execution_count": 10,
   "id": "ad910d55",
   "metadata": {},
   "outputs": [
    {
     "name": "stdout",
     "output_type": "stream",
     "text": [
      "Model: \"sequential\"\n",
      "_________________________________________________________________\n",
      " Layer (type)                Output Shape              Param #   \n",
      "=================================================================\n",
      " conv2d (Conv2D)             (None, 254, 254, 32)      320       \n",
      "                                                                 \n",
      " max_pooling2d (MaxPooling2D  (None, 127, 127, 32)     0         \n",
      " )                                                               \n",
      "                                                                 \n",
      " conv2d_1 (Conv2D)           (None, 125, 125, 64)      18496     \n",
      "                                                                 \n",
      " max_pooling2d_1 (MaxPooling  (None, 62, 62, 64)       0         \n",
      " 2D)                                                             \n",
      "                                                                 \n",
      " conv2d_2 (Conv2D)           (None, 60, 60, 64)        36928     \n",
      "                                                                 \n",
      " max_pooling2d_2 (MaxPooling  (None, 30, 30, 64)       0         \n",
      " 2D)                                                             \n",
      "                                                                 \n",
      " conv2d_3 (Conv2D)           (None, 28, 28, 32)        18464     \n",
      "                                                                 \n",
      " max_pooling2d_3 (MaxPooling  (None, 14, 14, 32)       0         \n",
      " 2D)                                                             \n",
      "                                                                 \n",
      " flatten (Flatten)           (None, 6272)              0         \n",
      "                                                                 \n",
      " dense (Dense)               (None, 3)                 18819     \n",
      "                                                                 \n",
      "=================================================================\n",
      "Total params: 93,027\n",
      "Trainable params: 93,027\n",
      "Non-trainable params: 0\n",
      "_________________________________________________________________\n"
     ]
    }
   ],
   "source": [
    "model.summary()"
   ]
  },
  {
   "cell_type": "code",
   "execution_count": 11,
   "id": "79f5c0ec",
   "metadata": {
    "scrolled": true
   },
   "outputs": [],
   "source": [
    "#model.fit(X_train, y_train, validation_data=(X_test, y_test), epochs=10)"
   ]
  },
  {
   "cell_type": "code",
   "execution_count": 12,
   "id": "6aae1d27",
   "metadata": {},
   "outputs": [],
   "source": [
    "#df_history = pd.DataFrame(model.history.history)"
   ]
  },
  {
   "cell_type": "code",
   "execution_count": 13,
   "id": "febce27d",
   "metadata": {},
   "outputs": [],
   "source": [
    "#df_history.plot()"
   ]
  },
  {
   "cell_type": "code",
   "execution_count": 14,
   "id": "af3ad80f",
   "metadata": {},
   "outputs": [],
   "source": [
    "#with open('history.pkl', 'wb') as file:\n",
    "#    pickle.dump(model.history.history, file)"
   ]
  },
  {
   "cell_type": "code",
   "execution_count": 15,
   "id": "d6362ff1",
   "metadata": {},
   "outputs": [],
   "source": [
    "with open('history.pkl', 'rb') as file:\n",
    "    history = pickle.load(file)"
   ]
  },
  {
   "cell_type": "code",
   "execution_count": 16,
   "id": "eab4f6e7",
   "metadata": {},
   "outputs": [],
   "source": [
    "df_history = pd.DataFrame(history)"
   ]
  },
  {
   "cell_type": "code",
   "execution_count": 17,
   "id": "ad2290b3",
   "metadata": {},
   "outputs": [
    {
     "data": {
      "text/html": [
       "<div>\n",
       "<style scoped>\n",
       "    .dataframe tbody tr th:only-of-type {\n",
       "        vertical-align: middle;\n",
       "    }\n",
       "\n",
       "    .dataframe tbody tr th {\n",
       "        vertical-align: top;\n",
       "    }\n",
       "\n",
       "    .dataframe thead th {\n",
       "        text-align: right;\n",
       "    }\n",
       "</style>\n",
       "<table border=\"1\" class=\"dataframe\">\n",
       "  <thead>\n",
       "    <tr style=\"text-align: right;\">\n",
       "      <th></th>\n",
       "      <th>loss</th>\n",
       "      <th>val_loss</th>\n",
       "    </tr>\n",
       "  </thead>\n",
       "  <tbody>\n",
       "    <tr>\n",
       "      <th>0</th>\n",
       "      <td>1.258263</td>\n",
       "      <td>0.545080</td>\n",
       "    </tr>\n",
       "    <tr>\n",
       "      <th>1</th>\n",
       "      <td>0.378016</td>\n",
       "      <td>0.269804</td>\n",
       "    </tr>\n",
       "    <tr>\n",
       "      <th>2</th>\n",
       "      <td>0.179035</td>\n",
       "      <td>0.253420</td>\n",
       "    </tr>\n",
       "    <tr>\n",
       "      <th>3</th>\n",
       "      <td>0.073445</td>\n",
       "      <td>0.029967</td>\n",
       "    </tr>\n",
       "    <tr>\n",
       "      <th>4</th>\n",
       "      <td>0.066346</td>\n",
       "      <td>0.042920</td>\n",
       "    </tr>\n",
       "    <tr>\n",
       "      <th>5</th>\n",
       "      <td>0.065614</td>\n",
       "      <td>0.132351</td>\n",
       "    </tr>\n",
       "    <tr>\n",
       "      <th>6</th>\n",
       "      <td>0.031270</td>\n",
       "      <td>0.017173</td>\n",
       "    </tr>\n",
       "    <tr>\n",
       "      <th>7</th>\n",
       "      <td>0.019279</td>\n",
       "      <td>0.019604</td>\n",
       "    </tr>\n",
       "    <tr>\n",
       "      <th>8</th>\n",
       "      <td>0.084682</td>\n",
       "      <td>0.042380</td>\n",
       "    </tr>\n",
       "    <tr>\n",
       "      <th>9</th>\n",
       "      <td>0.012704</td>\n",
       "      <td>0.006032</td>\n",
       "    </tr>\n",
       "  </tbody>\n",
       "</table>\n",
       "</div>"
      ],
      "text/plain": [
       "       loss  val_loss\n",
       "0  1.258263  0.545080\n",
       "1  0.378016  0.269804\n",
       "2  0.179035  0.253420\n",
       "3  0.073445  0.029967\n",
       "4  0.066346  0.042920\n",
       "5  0.065614  0.132351\n",
       "6  0.031270  0.017173\n",
       "7  0.019279  0.019604\n",
       "8  0.084682  0.042380\n",
       "9  0.012704  0.006032"
      ]
     },
     "execution_count": 17,
     "metadata": {},
     "output_type": "execute_result"
    }
   ],
   "source": [
    "df_history"
   ]
  },
  {
   "cell_type": "code",
   "execution_count": 18,
   "id": "11bde086",
   "metadata": {},
   "outputs": [
    {
     "data": {
      "image/png": "[encoded data removed]",
      "text/plain": [
       "<Figure size 432x288 with 1 Axes>"
      ]
     },
     "metadata": {
      "needs_background": "light"
     },
     "output_type": "display_data"
    }
   ],
   "source": [
    "plt.plot(df_history['loss'], label='Training Loss')\n",
    "plt.plot(df_history['val_loss'], label='Validation Loss')\n",
    "plt.xlabel('Epoch')\n",
    "plt.ylabel('Loss')\n",
    "plt.legend()\n",
    "plt.show()"
   ]
  },
  {
   "cell_type": "code",
   "execution_count": 19,
   "id": "091d3b07",
   "metadata": {},
   "outputs": [],
   "source": [
    "#model.save_weights('cnn_3_class.h5')"
   ]
  },
  {
   "cell_type": "code",
   "execution_count": 20,
   "id": "1035861a",
   "metadata": {},
   "outputs": [],
   "source": [
    "# If fit is executed, skip this\n",
    "model.built = True\n",
    "model.load_weights('cnn_3_class.h5')"
   ]
  },
  {
   "cell_type": "code",
   "execution_count": 21,
   "id": "0345d033",
   "metadata": {},
   "outputs": [
    {
     "name": "stdout",
     "output_type": "stream",
     "text": [
      "17/17 [==============================] - 8s 437ms/step\n"
     ]
    }
   ],
   "source": [
    "pred = model.predict(X_test)\n",
    "pred = np.argmax(pred, axis=1)\n",
    "y_test = np.argmax(y_test,axis=1)"
   ]
  },
  {
   "cell_type": "code",
   "execution_count": 22,
   "id": "3240c204",
   "metadata": {},
   "outputs": [
    {
     "name": "stdout",
     "output_type": "stream",
     "text": [
      "              precision    recall  f1-score   support\n",
      "\n",
      "           0       1.00      0.94      0.97       121\n",
      "           1       0.99      0.99      0.99       133\n",
      "           2       0.97      1.00      0.98       262\n",
      "\n",
      "    accuracy                           0.98       516\n",
      "   macro avg       0.99      0.98      0.98       516\n",
      "weighted avg       0.98      0.98      0.98       516\n",
      "\n",
      "[[114   1   6]\n",
      " [  0 132   1]\n",
      " [  0   1 261]]\n"
     ]
    }
   ],
   "source": [
    "print(classification_report(y_test, pred))\n",
    "print(confusion_matrix(y_test, pred))"
   ]
  },
  {
   "cell_type": "code",
   "execution_count": 23,
   "id": "8c491d57",
   "metadata": {},
   "outputs": [],
   "source": [
    "a, b, c, d, e, f, g, h, i=confusion_matrix(y_test,pred).ravel()\n",
    "TP = a\n",
    "TN = e + f + h + i\n",
    "FP = b + c\n",
    "FN = d + g"
   ]
  },
  {
   "cell_type": "code",
   "execution_count": 24,
   "id": "db7527d3",
   "metadata": {},
   "outputs": [
    {
     "name": "stdout",
     "output_type": "stream",
     "text": [
      "0.9825870646766169\n"
     ]
    }
   ],
   "source": [
    "specificity = (TN)/(TN+FP)\n",
    "print(specificity)"
   ]
  },
  {
   "cell_type": "code",
   "execution_count": 25,
   "id": "7a08edf6",
   "metadata": {},
   "outputs": [],
   "source": [
    "# print(confusion_matrix(y_test, pred).ravel())\n",
    "# specificity = tn / (tn+fp)\n",
    "# print('Specificity:', specificity)"
   ]
  },
  {
   "cell_type": "markdown",
   "id": "e08dd2ae",
   "metadata": {},
   "source": [
    "# Image viewer"
   ]
  },
  {
   "cell_type": "code",
   "execution_count": 26,
   "id": "b437807d",
   "metadata": {},
   "outputs": [
    {
     "name": "stdout",
     "output_type": "stream",
     "text": [
      "Enter the type:MCI\n",
      "3408\n"
     ]
    },
    {
     "data": {
      "image/png": "[encoded data removed]",
      "text/plain": [
       "<PIL.Image.Image image mode=L size=256x256 at 0x1D0F185D610>"
      ]
     },
     "execution_count": 26,
     "metadata": {},
     "output_type": "execute_result"
    }
   ],
   "source": [
    "name = input('Enter the type:')\n",
    "image_index = num_class(name)\n",
    "print(image_index)\n",
    "display_image(image_index)"
   ]
  },
  {
   "cell_type": "code",
   "execution_count": 27,
   "id": "1f2069fc",
   "metadata": {},
   "outputs": [
    {
     "name": "stdout",
     "output_type": "stream",
     "text": [
      "Enter the number:3408\n"
     ]
    },
    {
     "data": {
      "image/png": "[encoded data removed]",
      "text/plain": [
       "<PIL.Image.Image image mode=L size=256x256 at 0x1D0F185D610>"
      ]
     },
     "execution_count": 27,
     "metadata": {},
     "output_type": "execute_result"
    }
   ],
   "source": [
    "# AD images index = 0 - 1123\n",
    "# CN images index = 1124 - 2563\n",
    "# MCI images index = 2564 -5153\n",
    "# Total images = 5154\n",
    "\n",
    "# Display based on number\n",
    "number = input('Enter the number:')\n",
    "number = int(number)\n",
    "display_image(number)"
   ]
  },
  {
   "cell_type": "markdown",
   "id": "fc18f65a",
   "metadata": {},
   "source": [
    "# Visualization"
   ]
  },
  {
   "cell_type": "code",
   "execution_count": 29,
   "id": "ee849e04",
   "metadata": {},
   "outputs": [
    {
     "data": {
      "text/plain": [
       "<AxesSubplot:>"
      ]
     },
     "execution_count": 29,
     "metadata": {},
     "output_type": "execute_result"
    },
    {
     "data": {
      "image/png": "[encoded data removed]",
      "text/plain": [
       "<Figure size 432x288 with 2 Axes>"
      ]
     },
     "metadata": {
      "needs_background": "light"
     },
     "output_type": "display_data"
    }
   ],
   "source": [
    "sns.heatmap(confusion_matrix(y_test, pred), cmap='tab20b', linewidths=1, annot=True, fmt='.3g')"
   ]
  },
  {
   "cell_type": "code",
   "execution_count": 30,
   "id": "d1854296",
   "metadata": {},
   "outputs": [],
   "source": [
    "count = {'AD': len(y_cat[y_cat[:,0]==1]), 'CN': len(y_cat[y_cat[:,1]==1]), 'MCI': len(y_cat[y_cat[:,2]==1])}\n",
    "df_count = pd.DataFrame(count, index=[0])\n",
    "df_count = pd.melt(df_count)"
   ]
  },
  {
   "cell_type": "code",
   "execution_count": 31,
   "id": "985bcd67",
   "metadata": {},
   "outputs": [
    {
     "data": {
      "text/plain": [
       "<AxesSubplot:xlabel='variable', ylabel='value'>"
      ]
     },
     "execution_count": 31,
     "metadata": {},
     "output_type": "execute_result"
    },
    {
     "data": {
      "image/png": "[encoded data removed]",
      "text/plain": [
       "<Figure size 432x288 with 1 Axes>"
      ]
     },
     "metadata": {
      "needs_background": "light"
     },
     "output_type": "display_data"
    }
   ],
   "source": [
    "sns.barplot(x=df_count['variable'], y = df_count['value'])"
   ]
  },
  {
   "cell_type": "code",
   "execution_count": 33,
   "id": "efa26f37",
   "metadata": {},
   "outputs": [
    {
     "data": {
      "text/html": [
       "<div>\n",
       "<style scoped>\n",
       "    .dataframe tbody tr th:only-of-type {\n",
       "        vertical-align: middle;\n",
       "    }\n",
       "\n",
       "    .dataframe tbody tr th {\n",
       "        vertical-align: top;\n",
       "    }\n",
       "\n",
       "    .dataframe thead th {\n",
       "        text-align: right;\n",
       "    }\n",
       "</style>\n",
       "<table border=\"1\" class=\"dataframe\">\n",
       "  <thead>\n",
       "    <tr style=\"text-align: right;\">\n",
       "      <th></th>\n",
       "      <th>variable</th>\n",
       "      <th>value</th>\n",
       "    </tr>\n",
       "  </thead>\n",
       "  <tbody>\n",
       "    <tr>\n",
       "      <th>0</th>\n",
       "      <td>Model</td>\n",
       "      <td>MSDNN</td>\n",
       "    </tr>\n",
       "    <tr>\n",
       "      <th>1</th>\n",
       "      <td>Model</td>\n",
       "      <td>HFCNN</td>\n",
       "    </tr>\n",
       "    <tr>\n",
       "      <th>2</th>\n",
       "      <td>Model</td>\n",
       "      <td>ResNet-101</td>\n",
       "    </tr>\n",
       "    <tr>\n",
       "      <th>3</th>\n",
       "      <td>Model</td>\n",
       "      <td>ECNN</td>\n",
       "    </tr>\n",
       "    <tr>\n",
       "      <th>4</th>\n",
       "      <td>Accuracy</td>\n",
       "      <td>75.4</td>\n",
       "    </tr>\n",
       "    <tr>\n",
       "      <th>5</th>\n",
       "      <td>Accuracy</td>\n",
       "      <td>90.3</td>\n",
       "    </tr>\n",
       "    <tr>\n",
       "      <th>6</th>\n",
       "      <td>Accuracy</td>\n",
       "      <td>96.3</td>\n",
       "    </tr>\n",
       "    <tr>\n",
       "      <th>7</th>\n",
       "      <td>Accuracy</td>\n",
       "      <td>98.0</td>\n",
       "    </tr>\n",
       "    <tr>\n",
       "      <th>8</th>\n",
       "      <td>Sensitivity</td>\n",
       "      <td>73.3</td>\n",
       "    </tr>\n",
       "    <tr>\n",
       "      <th>9</th>\n",
       "      <td>Sensitivity</td>\n",
       "      <td>82.4</td>\n",
       "    </tr>\n",
       "    <tr>\n",
       "      <th>10</th>\n",
       "      <td>Sensitivity</td>\n",
       "      <td>96.7</td>\n",
       "    </tr>\n",
       "    <tr>\n",
       "      <th>11</th>\n",
       "      <td>Sensitivity</td>\n",
       "      <td>98.0</td>\n",
       "    </tr>\n",
       "    <tr>\n",
       "      <th>12</th>\n",
       "      <td>Specificity</td>\n",
       "      <td>76.2</td>\n",
       "    </tr>\n",
       "    <tr>\n",
       "      <th>13</th>\n",
       "      <td>Specificity</td>\n",
       "      <td>96.5</td>\n",
       "    </tr>\n",
       "    <tr>\n",
       "      <th>14</th>\n",
       "      <td>Specificity</td>\n",
       "      <td>93.9</td>\n",
       "    </tr>\n",
       "    <tr>\n",
       "      <th>15</th>\n",
       "      <td>Specificity</td>\n",
       "      <td>98.0</td>\n",
       "    </tr>\n",
       "  </tbody>\n",
       "</table>\n",
       "</div>"
      ],
      "text/plain": [
       "       variable       value\n",
       "0         Model       MSDNN\n",
       "1         Model       HFCNN\n",
       "2         Model  ResNet-101\n",
       "3         Model        ECNN\n",
       "4      Accuracy        75.4\n",
       "5      Accuracy        90.3\n",
       "6      Accuracy        96.3\n",
       "7      Accuracy        98.0\n",
       "8   Sensitivity        73.3\n",
       "9   Sensitivity        82.4\n",
       "10  Sensitivity        96.7\n",
       "11  Sensitivity        98.0\n",
       "12  Specificity        76.2\n",
       "13  Specificity        96.5\n",
       "14  Specificity        93.9\n",
       "15  Specificity        98.0"
      ]
     },
     "execution_count": 33,
     "metadata": {},
     "output_type": "execute_result"
    }
   ],
   "source": [
    "df_results = pd.DataFrame({'Model': ['MSDNN', 'HFCNN', 'ResNet-101', 'ECNN'], 'Accuracy': [75.4, 90.3, 96.3, 98], 'Sensitivity': [73.3, 82.4, 96.7, 98], 'Specificity': [76.2, 96.5, 93.9, 98]})\n",
    "df_results.melt()"
   ]
  },
  {
   "cell_type": "code",
   "execution_count": 34,
   "id": "1e2b239e",
   "metadata": {},
   "outputs": [
    {
     "data": {
      "text/plain": [
       "<AxesSubplot:xlabel='Model', ylabel='value'>"
      ]
     },
     "execution_count": 34,
     "metadata": {},
     "output_type": "execute_result"
    },
    {
     "data": {
      "image/png": "[encoded data removed]",
      "text/plain": [
       "<Figure size 864x576 with 1 Axes>"
      ]
     },
     "metadata": {},
     "output_type": "display_data"
    }
   ],
   "source": [
    "df_results = pd.DataFrame({'Model': ['MSDNN', 'HFCNN', 'ResNet-101', 'ECNN'], 'Accuracy': [75.4, 90.3, 96.3, 98], 'Sensitivity': [73.3, 82.4, 96.7, 98], 'Specificity': [76.2, 96.5, 93.9, 98]})\n",
    "df_results = pd.melt(df_results, id_vars=['Model'])\n",
    "sns.set(rc={'figure.figsize':(12,8)})\n",
    "sns.barplot(x='Model',y='value', hue='variable', data = df_results)"
   ]
  },
  {
   "cell_type": "code",
   "execution_count": null,
   "id": "53881aaf",
   "metadata": {},
   "outputs": [],
   "source": []
  }
 ],
 "metadata": {
  "kernelspec": {
   "display_name": "Python 3 (ipykernel)",
   "language": "python",
   "name": "python3"
  },
  "language_info": {
   "codemirror_mode": {
    "name": "ipython",
    "version": 3
   },
   "file_extension": ".py",
   "mimetype": "text/x-python",
   "name": "python",
   "nbconvert_exporter": "python",
   "pygments_lexer": "ipython3",
   "version": "3.9.7"
  }
 },
 "nbformat": 4,
 "nbformat_minor": 5
}
